{
  "nbformat": 4,
  "nbformat_minor": 0,
  "metadata": {
    "colab": {
      "provenance": [],
      "authorship_tag": "ABX9TyNO62hzhZ9/TjdJzFiNk+mc",
      "include_colab_link": true
    },
    "kernelspec": {
      "name": "python3",
      "display_name": "Python 3"
    },
    "language_info": {
      "name": "python"
    }
  },
  "cells": [
    {
      "cell_type": "markdown",
      "metadata": {
        "id": "view-in-github",
        "colab_type": "text"
      },
      "source": [
        "<a href=\"https://colab.research.google.com/github/MeherDeepthi/Small_projects/blob/main/sudoku1.ipynb\" target=\"_parent\"><img src=\"https://colab.research.google.com/assets/colab-badge.svg\" alt=\"Open In Colab\"/></a>"
      ]
    },
    {
      "cell_type": "code",
      "execution_count": null,
      "metadata": {
        "id": "hWQ0RGMox_er"
      },
      "outputs": [],
      "source": [
        "board = [[\"5\",\"3\",\".\",\".\",\"7\",\".\",\".\",\".\",\".\"]\n",
        ",[\"6\",\".\",\".\",\"1\",\"9\",\"5\",\".\",\".\",\".\"]\n",
        ",[\".\",\"9\",\"8\",\".\",\".\",\".\",\".\",\"6\",\".\"]\n",
        ",[\"8\",\".\",\".\",\".\",\"6\",\".\",\".\",\".\",\"3\"]\n",
        ",[\"4\",\".\",\".\",\"8\",\".\",\"3\",\".\",\".\",\"1\"]\n",
        ",[\"7\",\".\",\".\",\".\",\"2\",\".\",\".\",\".\",\"6\"]\n",
        ",[\".\",\"6\",\".\",\".\",\".\",\".\",\"2\",\"8\",\".\"]\n",
        ",[\".\",\".\",\".\",\"4\",\"1\",\"9\",\".\",\".\",\"5\"]\n",
        ",[\".\",\".\",\".\",\".\",\"8\",\".\",\".\",\"7\",\"9\"]]"
      ]
    },
    {
      "cell_type": "code",
      "source": [
        "board =[[\"8\",\"3\",\".\",\".\",\"7\",\".\",\".\",\".\",\".\"],[\"6\",\".\",\".\",\"1\",\"9\",\"5\",\".\",\".\",\".\"],[\".\",\"9\",\"8\",\".\",\".\",\".\",\".\",\"6\",\".\"],[\"8\",\".\",\".\",\".\",\"6\",\".\",\".\",\".\",\"3\"],[\"4\",\".\",\".\",\"8\",\".\",\"3\",\".\",\".\",\"1\"],[\"7\",\".\",\".\",\".\",\"2\",\".\",\".\",\".\",\"6\"],[\".\",\"6\",\".\",\".\",\".\",\".\",\"2\",\"8\",\".\"],[\".\",\".\",\".\",\"4\",\"1\",\"9\",\".\",\".\",\"5\"],[\".\",\".\",\".\",\".\",\"8\",\".\",\".\",\"7\",\"9\"]]"
      ],
      "metadata": {
        "id": "uy2OuuD2VOBK"
      },
      "execution_count": null,
      "outputs": []
    },
    {
      "cell_type": "code",
      "source": [
        "\n",
        "is_valid = bool\n",
        "\n",
        "for n in range(9):\n",
        "  li = []\n",
        "  for m in range(9) :\n",
        "    if board[n][m] != '.' and int(board[n][m]) in range(9) :\n",
        "      if int(board[n][m]) in li:\n",
        "        is_valid = False\n",
        "        exit\n",
        "      else :\n",
        "        li.append(int(board[n][m]))\n",
        "  print(li)\n",
        "  is_valid = True\n",
        "\n",
        "for m in range(9):\n",
        "  li2 = []\n",
        "  for n in range(9) :\n",
        "    if board[n][m] != '.' and int(board[n][m]) in range(9) :\n",
        "      if int(board[n][m]) in li2:\n",
        "        is_valid = False\n",
        "        exit\n",
        "      else :\n",
        "        li2.append(int(board[n][m]))\n",
        "  print(li2)\n",
        "  is_valid = True\n",
        "\n",
        "# iterate iver 3*3 subgrid\n",
        "for i in range(3): # horizontal subgrids\n",
        "  for j in range(3): #vertical\n",
        "    li3 = []\n",
        "    for n in range(3): #rows within subgrid\n",
        "      #li3 = []\n",
        "      for m in range(3) : # columns\n",
        "        if board[n+(i*3)][m+(j*3)] != '.' and int(board[n+(i*3)][m+(j*3)]) in range(10) :\n",
        "          if int(board[n+(i*3)][m+(j*3)]) in li3:\n",
        "              is_valid = False\n",
        "              exit\n",
        "          else :\n",
        "            li3.append(int(board[n+(i*3)][m+(j*3)]))\n",
        "    print(li3)\n",
        "    is_valid = True\n",
        "\n"
      ],
      "metadata": {
        "colab": {
          "base_uri": "https://localhost:8080/"
        },
        "id": "P7vOkrZ2yB_T",
        "outputId": "9a02bd3c-efb8-4168-f81a-3414f3c96e4c"
      },
      "execution_count": null,
      "outputs": [
        {
          "output_type": "stream",
          "name": "stdout",
          "text": [
            "[5, 3, 7]\n",
            "[6, 1, 5]\n",
            "[8, 6]\n",
            "[8, 6, 3]\n",
            "[4, 8, 3, 1]\n",
            "[7, 2, 6]\n",
            "[6, 2, 8]\n",
            "[4, 1, 5]\n",
            "[8, 7]\n",
            "[5, 6, 8, 4, 7]\n",
            "[3, 6]\n",
            "[8]\n",
            "[1, 8, 4]\n",
            "[7, 6, 2, 1, 8]\n",
            "[5, 3]\n",
            "[2]\n",
            "[6, 8, 7]\n",
            "[3, 1, 6, 5]\n",
            "[5, 3, 6, 9, 8]\n",
            "[7, 1, 9, 5]\n",
            "[6]\n",
            "[8, 4, 7]\n",
            "[6, 8, 3, 2]\n",
            "[3, 1, 6]\n",
            "[6]\n",
            "[4, 1, 9, 8]\n",
            "[2, 8, 5, 7, 9]\n"
          ]
        }
      ]
    },
    {
      "cell_type": "code",
      "source": [
        "is_valid"
      ],
      "metadata": {
        "colab": {
          "base_uri": "https://localhost:8080/"
        },
        "id": "E5mCf6pYStuy",
        "outputId": "c44f2f28-47e1-4d73-fbea-25d8efc08965"
      },
      "execution_count": null,
      "outputs": [
        {
          "output_type": "execute_result",
          "data": {
            "text/plain": [
              "True"
            ]
          },
          "metadata": {},
          "execution_count": 38
        }
      ]
    },
    {
      "cell_type": "code",
      "source": [
        "x"
      ],
      "metadata": {
        "colab": {
          "base_uri": "https://localhost:8080/"
        },
        "id": "y-SLvHiMyb7j",
        "outputId": "b29d923f-5c0a-4cfd-d01d-40e3aa751a9b"
      },
      "execution_count": null,
      "outputs": [
        {
          "output_type": "execute_result",
          "data": {
            "text/plain": [
              "0"
            ]
          },
          "metadata": {},
          "execution_count": 18
        }
      ]
    },
    {
      "cell_type": "code",
      "source": [
        "board[2][1]"
      ],
      "metadata": {
        "colab": {
          "base_uri": "https://localhost:8080/",
          "height": 35
        },
        "id": "QVjaiNs0yHW4",
        "outputId": "ecc88820-b350-4929-bf67-28cae6a64f98"
      },
      "execution_count": null,
      "outputs": [
        {
          "output_type": "execute_result",
          "data": {
            "text/plain": [
              "'9'"
            ],
            "application/vnd.google.colaboratory.intrinsic+json": {
              "type": "string"
            }
          },
          "metadata": {},
          "execution_count": 3
        }
      ]
    }
  ]
}