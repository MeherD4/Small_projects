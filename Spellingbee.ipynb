{
 "cells": [
  {
   "cell_type": "code",
   "execution_count": null,
   "id": "57d23e2c",
   "metadata": {},
   "outputs": [],
   "source": [
    "from nltk.corpus import wordnet\n",
    "from nltk.corpus import words"
   ]
  },
  {
   "cell_type": "code",
   "execution_count": null,
   "id": "9ef96b47",
   "metadata": {},
   "outputs": [],
   "source": [
    "from nltk.corpus import wordnet\n",
    "from nltk.corpus import words\n",
    "\n",
    "y = [word for word in words.words() if word.find(\"u\") >= 0 ]\n",
    "z = []\n",
    "k = -1\n",
    "t = []\n",
    "g = False\n",
    "for i in y :\n",
    "    k = k+1    \n",
    "    for j in range(len(i)):\n",
    "        t.append( y[k][j])\n",
    "    for l in range(len(t)):\n",
    "        if t[l] in [\"o\",\"d\",\"c\",\"t\",\"n\",\"i\",\"u\"] and len(t)>3:\n",
    "            g = True\n",
    "        else :\n",
    "            g = False\n",
    "            break;\n",
    "    t = []\n",
    "    if g ==True:\n",
    "        z.append(i)\n",
    "\n",
    "z "
   ]
  }
 ],
 "metadata": {
  "kernelspec": {
   "display_name": "Python 3",
   "language": "python",
   "name": "python3"
  },
  "language_info": {
   "codemirror_mode": {
    "name": "ipython",
    "version": 3
   },
   "file_extension": ".py",
   "mimetype": "text/x-python",
   "name": "python",
   "nbconvert_exporter": "python",
   "pygments_lexer": "ipython3",
   "version": "3.8.8"
  }
 },
 "nbformat": 4,
 "nbformat_minor": 5
}
